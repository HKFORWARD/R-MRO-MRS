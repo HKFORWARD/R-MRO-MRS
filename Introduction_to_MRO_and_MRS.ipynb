{
 "cells": [
  {
   "cell_type": "markdown",
   "metadata": {},
   "source": [
    "# Introduction to MRO and MRS\n",
    "\n",
    "Lixun Zhang  \n",
    "Mar 31, 2016\n",
    "\n",
    "Microsoft recently [announced][blog link] that it now offers Microsoft R Server (formerly Revolution R Enterprise) free for developers and Microsoft R Open (formerly Revolution R Open) free for everyone.\n",
    "\n",
    "The purpose of this write-up is to help data scientists who are familiar with R better understand the commonalities and differences among R, Microsoft R Open (MRO) and Microsoft R Server (MRS). \n",
    "\n",
    "[blog link]: http://blogs.technet.com/b/machinelearning/archive/2016/01/12/making-r-the-enterprise-standard-for-cross-platform-analytics-both-on-premises-and-in-the-cloud.aspx"
   ]
  },
  {
   "cell_type": "markdown",
   "metadata": {},
   "source": [
    "## 1 Setup\n",
    "The links for downloading MRO and MRS can be found [here][here link]. \n",
    "\n",
    "You can also [provision a Microsoft Data Science Virutal Machine][provision link] (DSVM), which comes pre-installed with Microsoft R Server Developer Edition. All tests below were completed on a Microsoft DSVM with 4 virtual processors (2.40 GHz) and 7 GB RAM. \n",
    "\n",
    "[here link]: http://blog.revolutionanalytics.com/2016/01/microsoft-r-open.html\n",
    "[provision link]: https://azure.microsoft.com/en-us/documentation/articles/machine-learning-data-science-provision-vm/"
   ]
  },
  {
   "cell_type": "markdown",
   "metadata": {},
   "source": [
    "## 2 Three Perspectives\n",
    "\n",
    "We can compare R, MRO and MRS from three perspectives: functions, packages, and platforms. \n",
    "\n",
    "### 2.1 Functions\n",
    "Since MRO and MRS are based on R, you can continue doing everything in MRO and MRS just like in R. For example, you can continue using your favorate development environment like RStudio, installing packages from CRAN, or fitting models with functions like lm() and glm(). As an example, with the following command we fit a logistic regression model with the glm() function, using either R, or MRO, or MRS."
   ]
  },
  {
   "cell_type": "code",
   "execution_count": 1,
   "metadata": {
    "collapsed": false,
    "scrolled": true
   },
   "outputs": [
    {
     "data": {
      "text/html": [
       "<table>\n",
       "<thead><tr><th></th><th scope=col>mpg</th><th scope=col>cyl</th><th scope=col>disp</th><th scope=col>hp</th><th scope=col>drat</th><th scope=col>wt</th><th scope=col>qsec</th><th scope=col>vs</th><th scope=col>am</th><th scope=col>gear</th><th scope=col>carb</th></tr></thead>\n",
       "<tbody>\n",
       "\t<tr><th scope=row>Mazda RX4</th><td>21</td><td>6</td><td>160</td><td>110</td><td>3.9</td><td>2.62</td><td>16.46</td><td>0</td><td>1</td><td>4</td><td>4</td></tr>\n",
       "\t<tr><th scope=row>Mazda RX4 Wag</th><td>21</td><td>6</td><td>160</td><td>110</td><td>3.9</td><td>2.875</td><td>17.02</td><td>0</td><td>1</td><td>4</td><td>4</td></tr>\n",
       "\t<tr><th scope=row>Datsun 710</th><td>22.8</td><td>4</td><td>108</td><td>93</td><td>3.85</td><td>2.32</td><td>18.61</td><td>1</td><td>1</td><td>4</td><td>1</td></tr>\n",
       "\t<tr><th scope=row>Hornet 4 Drive</th><td>21.4</td><td>6</td><td>258</td><td>110</td><td>3.08</td><td>3.215</td><td>19.44</td><td>1</td><td>0</td><td>3</td><td>1</td></tr>\n",
       "\t<tr><th scope=row>Hornet Sportabout</th><td>18.7</td><td>8</td><td>360</td><td>175</td><td>3.15</td><td>3.44</td><td>17.02</td><td>0</td><td>0</td><td>3</td><td>2</td></tr>\n",
       "\t<tr><th scope=row>Valiant</th><td>18.1</td><td>6</td><td>225</td><td>105</td><td>2.76</td><td>3.46</td><td>20.22</td><td>1</td><td>0</td><td>3</td><td>1</td></tr>\n",
       "</tbody>\n",
       "</table>\n"
      ],
      "text/latex": [
       "\\begin{tabular}{r|lllllllllll}\n",
       "  & mpg & cyl & disp & hp & drat & wt & qsec & vs & am & gear & carb\\\\\n",
       "\\hline\n",
       "\tMazda RX4 & 21 & 6 & 160 & 110 & 3.9 & 2.62 & 16.46 & 0 & 1 & 4 & 4\\\\\n",
       "\tMazda RX4 Wag & 21 & 6 & 160 & 110 & 3.9 & 2.875 & 17.02 & 0 & 1 & 4 & 4\\\\\n",
       "\tDatsun 710 & 22.8 & 4 & 108 & 93 & 3.85 & 2.32 & 18.61 & 1 & 1 & 4 & 1\\\\\n",
       "\tHornet 4 Drive & 21.4 & 6 & 258 & 110 & 3.08 & 3.215 & 19.44 & 1 & 0 & 3 & 1\\\\\n",
       "\tHornet Sportabout & 18.7 & 8 & 360 & 175 & 3.15 & 3.44 & 17.02 & 0 & 0 & 3 & 2\\\\\n",
       "\tValiant & 18.1 & 6 & 225 & 105 & 2.76 & 3.46 & 20.22 & 1 & 0 & 3 & 1\\\\\n",
       "\\end{tabular}\n"
      ],
      "text/plain": [
       "                   mpg cyl disp  hp drat    wt  qsec vs am gear carb\n",
       "Mazda RX4         21.0   6  160 110 3.90 2.620 16.46  0  1    4    4\n",
       "Mazda RX4 Wag     21.0   6  160 110 3.90 2.875 17.02  0  1    4    4\n",
       "Datsun 710        22.8   4  108  93 3.85 2.320 18.61  1  1    4    1\n",
       "Hornet 4 Drive    21.4   6  258 110 3.08 3.215 19.44  1  0    3    1\n",
       "Hornet Sportabout 18.7   8  360 175 3.15 3.440 17.02  0  0    3    2\n",
       "Valiant           18.1   6  225 105 2.76 3.460 20.22  1  0    3    1"
      ]
     },
     "execution_count": 1,
     "metadata": {},
     "output_type": "execute_result"
    }
   ],
   "source": [
    "# check the data\n",
    "head(mtcars)\n",
    "# fit a model with glm(), this can be run on R, MRO, or MRS\n",
    "# predict V engine vs straight engine with weight and displacement\n",
    "logistic1 <- glm(vs ~ wt + disp, data = mtcars, family = binomial)\n",
    "# summary(logistic1)"
   ]
  },
  {
   "cell_type": "markdown",
   "metadata": {},
   "source": [
    "MRS has a high performance analysis (HPA) version of the glm() function called rxGlm(). This function can be used only with MRS and not R or MRO. "
   ]
  },
  {
   "cell_type": "code",
   "execution_count": 2,
   "metadata": {
    "collapsed": false
   },
   "outputs": [],
   "source": [
    "rxOptions(reportProgress = 0) # don't report progress\n",
    "# fit the same model with rxGlm(), this can be run on MRS only\n",
    "# predict V engine vs straight engine with weight and displacement\n",
    "logistic2 <- rxGlm(vs ~ wt + disp, data = mtcars, family = binomial)\n",
    "# summary(logistic2)"
   ]
  },
  {
   "cell_type": "markdown",
   "metadata": {},
   "source": [
    "As another example, MRS has an HPA version of the kmeans() function called rxKmeans(). This function can be used only with MRS and not R or MRO. \n",
    "\n",
    "Below we simulate data that can be analyzed by kmeans() and rxKmeans(). "
   ]
  },
  {
   "cell_type": "code",
   "execution_count": 3,
   "metadata": {
    "collapsed": false,
    "scrolled": false
   },
   "outputs": [
    {
     "name": "stderr",
     "output_type": "stream",
     "text": [
      "Warning message:\n",
      ": package 'MASS' was built under R version 3.2.4Warning message:\n",
      ": package 'ggplot2' was built under R version 3.2.4"
     ]
    },
    {
     "data": {
      "image/png": "[encoded data removed]"
     },
     "metadata": {},
     "output_type": "display_data"
    }
   ],
   "source": [
    "library(\"MASS\")\n",
    "library(\"ggplot2\")\n",
    "\n",
    "# show images inline\n",
    "options(jupyter.plot_mimetypes = 'image/png')\n",
    "\n",
    "# change size of plot\n",
    "options(repr.plot.width = 5, repr.plot.height = 4)\n",
    "\n",
    "# make sure the results can be replicated\n",
    "set.seed(112)\n",
    "\n",
    "# function to simulate data \n",
    "simulCluster <- function(nsamples, mean, dimension, group)\n",
    "{\n",
    "  Sigma <- diag(1, dimension, dimension)\n",
    "  x <- mvrnorm(n = nsamples, rep(mean, dimension), Sigma)\n",
    "  z <- as.data.frame(x)\n",
    "  z$group = group\n",
    "  z\n",
    "}\n",
    "\n",
    "# simulate data with 2 clusters\n",
    "nsamples <- 1000\n",
    "group_a <- simulCluster(nsamples, -1, 2, \"a\")\n",
    "group_b <- simulCluster(nsamples, 1, 2, \"b\")\n",
    "group_all <- rbind(group_a, group_b)\n",
    "\n",
    "nclusters <- 2\n",
    "\n",
    "# plot data \n",
    "ggplot(group_all, aes(x = V1, y = V2)) +\n",
    "  geom_point(aes(colour = group)) +\n",
    "  geom_point(data = data.frame(V1 = c(-1, 1), V2 = c(-1, 1)), size = 5) +\n",
    "  xlim(-5, 5) + ylim(-5, 5) +\n",
    "  geom_hline(yintercept = 0) +\n",
    "  geom_vline(xintercept = 0) +\n",
    "  ggtitle(\"Simulated data in two overlapping groups\")\n",
    "\n",
    "# assign data \n",
    "mydata = group_all[,1:2]"
   ]
  },
  {
   "cell_type": "markdown",
   "metadata": {},
   "source": [
    "Then we can use kmeans() in R/MRO/MRS or rxKmeans() in MRS for the analysis."
   ]
  },
  {
   "cell_type": "code",
   "execution_count": 4,
   "metadata": {
    "collapsed": false
   },
   "outputs": [],
   "source": [
    "# cluster analysis with kmeans(), it works on R, MRO, or MRS\n",
    "fit_kmeans <- kmeans(mydata, nclusters, iter.max = 1000, algorithm = \"Lloyd\")\n",
    "\n",
    "# cluster analysis with rxKmeans(), it works on MRS only\n",
    "fit_rxKmeans <- rxKmeans( ~ V1 + V2, data = mydata,\n",
    "                          numClusters = nclusters, algorithm = \"lloyd\")"
   ]
  },
  {
   "cell_type": "markdown",
   "metadata": {},
   "source": [
    "The following code uses the XDF format data in rxKmeans() and compares the cluster assignment between kmeans() and rxKmeans(). The cluster assignments are the same between these two functions."
   ]
  },
  {
   "cell_type": "code",
   "execution_count": 5,
   "metadata": {
    "collapsed": false,
    "scrolled": false
   },
   "outputs": [
    {
     "name": "stdout",
     "output_type": "stream",
     "text": [
      "\n",
      "blocksPerRead must be 1 if predictions or residuals are be being written to the input data source.\n"
     ]
    },
    {
     "data": {
      "text/plain": [
       "              cluster_rxKmeans\n",
       "cluster_kmeans    1    2\n",
       "             1  991    0\n",
       "             2    0 1009"
      ]
     },
     "execution_count": 5,
     "metadata": {},
     "output_type": "execute_result"
    },
    {
     "data": {
      "image/png": "[encoded data removed]"
     },
     "metadata": {},
     "output_type": "display_data"
    },
    {
     "data": {
      "image/png": "[encoded data removed]"
     },
     "metadata": {},
     "output_type": "display_data"
    }
   ],
   "source": [
    "# save a dataset in XDF format\n",
    "dataXDF = tempfile(fileext = \".xdf\")\n",
    "rxImport(inData = mydata, outFile = dataXDF, overwrite = TRUE)\n",
    "# rxKmeans\n",
    "fit_rxKmeans_2 <- rxKmeans(~ V1 + V2, data = dataXDF, \n",
    "                          numClusters = nclusters, algorithm = \"lloyd\",\n",
    "                          outFile = dataXDF, outColName = \"cluster\", \n",
    "                          overwrite = TRUE)\n",
    "\n",
    "# convert to dataframe and keep one variable only\n",
    "cluster_rxKmeans <- rxDataStep(dataXDF, varsToKeep = \"cluster\")\n",
    "\n",
    "# append cluster assignment from kmeans and rxKmeans\n",
    "mydata_clusters <- cbind(\n",
    "  group_all,\n",
    "  cluster_kmeans = factor(fit_kmeans$cluster),\n",
    "  cluster_rxKmeans = factor(cluster_rxKmeans$cluster))\n",
    "\n",
    "# compare the cluster assignments between kmeans and rxKmeans\n",
    "with(mydata_clusters, table(cluster_kmeans, cluster_rxKmeans))\n",
    "\n",
    "# get cluster centroids \n",
    "cluster_centroid_kmeans <- fit_kmeans$centers\n",
    "cluster_centroid_rxKmeans <- fit_rxKmeans_2$centers\n",
    "\n",
    "# plot clusters from kmeans\n",
    "ggplot(mydata_clusters, aes(x = V1, y = V2)) +\n",
    "  geom_point(aes(colour = cluster_kmeans)) +\n",
    "  geom_point(data = as.data.frame(cluster_centroid_kmeans), size = 5) +\n",
    "  xlim(-5, 5) + ylim(-5, 5) +\n",
    "  geom_hline(yintercept = 0) +\n",
    "  geom_vline(xintercept = 0) +\n",
    "  ggtitle(\"Clusters found by kmeans()\") + \n",
    "  theme(legend.title=element_blank())\n",
    "\n",
    "# plot clusters from rxKmeans\n",
    "ggplot(mydata_clusters, aes(x = V1, y = V2)) +\n",
    "  geom_point(aes(colour = cluster_rxKmeans)) +\n",
    "  geom_point(data = as.data.frame(cluster_centroid_rxKmeans), size = 5) +\n",
    "  xlim(-5, 5) + ylim(-5, 5) +\n",
    "  geom_hline(yintercept = 0) +\n",
    "  geom_vline(xintercept = 0) +\n",
    "  ggtitle(\"Clusters found by rxKmeans()\") +\n",
    "  theme(legend.title=element_blank())"
   ]
  },
  {
   "cell_type": "markdown",
   "metadata": {},
   "source": [
    "MRS has the HPA version of many other R functions. These MRS functions usually start with \"rx\" and are included in the RevoScaleR package. Figure 1 gives 3 three examples. More information on available HPA functions can be found [here][here link]\n",
    "\n",
    "[![Figure 1][pic 1]][pic 1] Figure 1\n",
    "\n",
    "[pic 1]: https://cloud.githubusercontent.com/assets/9322661/13321864/9bef4f40-db9f-11e5-83cf-08e49fc81d4e.PNG\n",
    "[here link]: http://www.revolutionanalytics.com/revolution-r-enterprise-scaler"
   ]
  },
  {
   "cell_type": "markdown",
   "metadata": {},
   "source": [
    "### 2.2 Packages\n",
    "Data scientists who use R are familiar with the use of Packages. [Figure 2][pic 2] compares R, MRO and MRS by checking the packages installed by default. For example, MRO with MKL has two additional packages compared with base R: RevoUtilsMath and checkpoint. While some of the additional packages in MRS are available on CRAN, most of them (e.g., RevoScaleR) are not and can be found only after installing MRS. \n",
    "\n",
    "[![Figure 2][pic 2]][pic 2] Figure 2\n",
    "\n",
    "[pic 2]: https://cloud.githubusercontent.com/assets/9322661/12992176/ddd25e30-d0e0-11e5-9f15-2c869c8caf3c.PNG"
   ]
  },
  {
   "cell_type": "markdown",
   "metadata": {},
   "source": [
    "### 2.3 Platforms\n",
    "[Figure 3][pic 3] from [a webinar's slides][slides link] compares R, MRO and MRS at the platform level. For example, the functions in the ScaleR module are included in the RevoScaleR package in [Figure 2][pic 2]. \n",
    "\n",
    "[![Figure 3][pic 3]][pic 3] Figure 3 \n",
    "\n",
    "[pic 3]: https://cloud.githubusercontent.com/assets/9322661/12992513/e5fea8a0-d0e2-11e5-9893-06c929e7a1d0.PNG\n",
    "[slides link]: https://info.microsoft.com/rs/157-GQE-382/images/EN-WBNR-Slidedeck-Using-Microsoft-R-Server-for-Scalability.pdf\n",
    "[pic 2]: https://cloud.githubusercontent.com/assets/9322661/12992176/ddd25e30-d0e0-11e5-9f15-2c869c8caf3c.PNG"
   ]
  },
  {
   "cell_type": "markdown",
   "metadata": {},
   "source": [
    "## 3 Performance Comparison\n",
    "\n",
    "MRS solves two problems associated with using R: capacity (handling the size of datasets and models) and speed. [Figure 4][pic 4] compares R, MRO and MRS in these two areas. In terms of capacity, using HPA in MRS increases the size of data that can be analyzed. In the speed perspective, certain matrix related base-R functions can perform better in MRO and MRS than base-R due to  MKL. The HPA functions in MRS perform better than their base-R counterparts for large datasets. We'll look into these two areas in this section.\n",
    "\n",
    "[![Figure 4][pic 4]][pic 4] Figure 4 \n",
    "\n",
    "[pic 4]: https://cloud.githubusercontent.com/assets/9322661/13857242/6af81d5c-ec4f-11e5-9aa2-b100d22c0c13.PNG"
   ]
  },
  {
   "cell_type": "markdown",
   "metadata": {},
   "source": [
    "### 3.1 Capacity\n",
    "Both R and MRO can only process data in-memory. So if the data size is larger than memory size, they cannot load the data successfully and thus cannot process them. This also applies to base R functions under the MRS environment. Even when the data size is less than memory they could fail for more complicated analyses. \n",
    "\n",
    "The HPA functions in MRS, on the other hand, allows processing data block by block. To do this it uses a data file format (.xdf) that is extremely efficient for both reading and writing data. These functions can still process in-memory data. But they allow the data to be disk-based as well. \n",
    "\n",
    "For example, the following example shows that for a large dataset rxKmeans() runs successfully but kmeans() does not.\n",
    "\n",
    "We start by simulating data with 60,000,000 rows and 2 columns, which takes up 2.2 GB disk space."
   ]
  },
  {
   "cell_type": "code",
   "execution_count": 6,
   "metadata": {
    "collapsed": false,
    "scrolled": true
   },
   "outputs": [],
   "source": [
    "library(\"MASS\")\n",
    "\n",
    "# make sure the results can be replicated\n",
    "set.seed(0)\n",
    "\n",
    "# simulate data and append\n",
    "nsamples <- 3*10^7 # use this to generate a large dataset\n",
    "# nsamples <- 10^3 # for testing purpose\n",
    "group_a <- simulCluster(nsamples, -1, 2, \"a\")\n",
    "group_b <- simulCluster(nsamples, 1, 2, \"b\")\n",
    "group_all <- rbind(group_a, group_b)\n",
    "\n",
    "nclusters <- 2\n",
    "\n",
    "# save data\n",
    "mydata = group_all[, 1:2]\n",
    "dataCSV = tempfile(fileext = \".csv\")\n",
    "dataXDF = tempfile(fileext = \".xdf\")\n",
    "write.csv(group_all, dataCSV, row.names = FALSE)\n",
    "rxImport(inData = dataCSV, outFile = dataXDF, overwrite = TRUE)"
   ]
  },
  {
   "cell_type": "markdown",
   "metadata": {},
   "source": [
    "When the following code uses kmeans() to analyze the data, an error message - “cannot allocate vector of size 915.5 Mb … Reached total allocation of 7167Mb: see help(memory.size)” - was returned. "
   ]
  },
  {
   "cell_type": "code",
   "execution_count": 7,
   "metadata": {
    "collapsed": false,
    "scrolled": true
   },
   "outputs": [
    {
     "name": "stderr",
     "output_type": "stream",
     "text": [
      "Warning message:\n",
      "In unlist(X, recursive = FALSE, use.names = FALSE): Reached total allocation of 7167Mb: see help(memory.size)Warning message:\n",
      "In unlist(X, recursive = FALSE, use.names = FALSE): Reached total allocation of 7167Mb: see help(memory.size)Warning message:\n",
      "In unlist(X, recursive = FALSE, use.names = FALSE): Reached total allocation of 7167Mb: see help(memory.size)Warning message:\n",
      "In unlist(X, recursive = FALSE, use.names = FALSE): Reached total allocation of 7167Mb: see help(memory.size)"
     ]
    },
    {
     "ename": "ERROR",
     "evalue": "Error: cannot allocate vector of size 915.5 Mb\n",
     "output_type": "error",
     "traceback": [
      "Error: cannot allocate vector of size 915.5 Mb\n"
     ]
    },
    {
     "name": "stdout",
     "output_type": "stream",
     "text": [
      "Timing stopped at: 257.39 6.12 319.03 \n"
     ]
    }
   ],
   "source": [
    "# cluster analysis with kmeans\n",
    "system_time_R <- \n",
    "  system.time(\n",
    "    {\n",
    "      fit <- kmeans(mydata, nclusters,\n",
    "                    iter.max = 1000,\n",
    "                    algorithm = \"Lloyd\")\n",
    "    })"
   ]
  },
  {
   "cell_type": "markdown",
   "metadata": {},
   "source": [
    "The following code uses the rxKmeans() function and returned results after 4 minutes."
   ]
  },
  {
   "cell_type": "code",
   "execution_count": 8,
   "metadata": {
    "collapsed": false,
    "scrolled": true
   },
   "outputs": [
    {
     "name": "stdout",
     "output_type": "stream",
     "text": [
      "\n",
      "blocksPerRead must be 1 if predictions or residuals are be being written to the input data source.\n"
     ]
    }
   ],
   "source": [
    "# cluster analysis with rxKmeans\n",
    "system_time_MRS <- \n",
    "  system.time(\n",
    "    {\n",
    "      clust <- rxKmeans( ~ V1 + V2, data = dataXDF,\n",
    "                         numClusters = nclusters,\n",
    "                         algorithm = \"lloyd\",\n",
    "                         outFile = dataXDF,\n",
    "                         outColName = \"cluster\",\n",
    "                         overwrite = TRUE)\n",
    "    })"
   ]
  },
  {
   "cell_type": "markdown",
   "metadata": {},
   "source": [
    "### 3.2 Speed\n",
    "\n",
    "#### 3.2.1 Base R Functions\n",
    "With the RevoUtilsMath package on multi-core computers, MRO performs better than base R for many matrix related functions. For example, running the following code from [MRAN's Performance Benchmarks page][benchmark link] on R, MRO, and MRS shows that MRO and MRS performed better than R. \n",
    "\n",
    "[benchmark link]: https://mran.revolutionanalytics.com/documents/rro/multithread"
   ]
  },
  {
   "cell_type": "code",
   "execution_count": 9,
   "metadata": {
    "collapsed": false,
    "scrolled": false
   },
   "outputs": [
    {
     "name": "stdout",
     "output_type": "stream",
     "text": [
      "[1] \"The number of threads is: 4\"\n"
     ]
    },
    {
     "data": {
      "text/plain": [
       "   user  system elapsed \n",
       " 148.54  176.76  235.01 "
      ]
     },
     "execution_count": 9,
     "metadata": {},
     "output_type": "execute_result"
    },
    {
     "data": {
      "text/plain": [
       "   user  system elapsed \n",
       "   7.98    0.56    4.40 "
      ]
     },
     "execution_count": 9,
     "metadata": {},
     "output_type": "execute_result"
    },
    {
     "data": {
      "text/plain": [
       "   user  system elapsed \n",
       "  52.35    4.50   18.12 "
      ]
     },
     "execution_count": 9,
     "metadata": {},
     "output_type": "execute_result"
    },
    {
     "data": {
      "text/plain": [
       "   user  system elapsed \n",
       " 114.34   10.45   37.82 "
      ]
     },
     "execution_count": 9,
     "metadata": {},
     "output_type": "execute_result"
    },
    {
     "data": {
      "text/plain": [
       "   user  system elapsed \n",
       " 165.66   13.20   98.02 "
      ]
     },
     "execution_count": 9,
     "metadata": {},
     "output_type": "execute_result"
    }
   ],
   "source": [
    "if(require(\"RevoUtilsMath\")){\n",
    "  print(paste(\"The number of threads is:\", getMKLthreads()))\n",
    "  # setMKLthreads(4) # set 4 threads\n",
    "  # setMKLthreads(1) # set 1 thread\n",
    "}\n",
    "\n",
    "# Initialization\n",
    "set.seed (1)\n",
    "m <- 10000\n",
    "n <-  5000\n",
    "A <- matrix (runif (m*n),m,n)\n",
    "\n",
    "# Matrix multiply\n",
    "system.time (B <- crossprod(A))\n",
    "\n",
    "# Cholesky Factorization\n",
    "system.time (C <- chol(B))\n",
    "\n",
    "# Singular Value Decomposition\n",
    "m <- 10000\n",
    "n <- 2000\n",
    "A <- matrix (runif (m*n),m,n)\n",
    "system.time (S <- svd (A,nu=0,nv=0))\n",
    "\n",
    "# Principal Components Analysis\n",
    "m <- 10000\n",
    "n <- 2000\n",
    "A <- matrix (runif (m*n),m,n)\n",
    "system.time (P <- prcomp(A))\n",
    "\n",
    "# Linear Discriminant Analysis\n",
    "library('MASS')\n",
    "g <- 5\n",
    "k <- round (m/2)\n",
    "A <- data.frame (A, fac=sample (LETTERS[1:g],m,replace=TRUE))\n",
    "train <- sample(1:m, k)\n",
    "system.time (L <- lda(fac ~., data=A, prior=rep(1,g)/g, subset=train))"
   ]
  },
  {
   "cell_type": "markdown",
   "metadata": {},
   "source": [
    "[Figure 5][pic 5] summarizes the speed comparison on 4 platforms: \n",
    "* Base R \n",
    "* MRO without MKL\n",
    "* MRO with MKL\n",
    "* MRS\n",
    "\n",
    "From Figure 5 we can make several observations: \n",
    "* There is little performance difference between R and MRO when MKL (the RevoUtilsMath package) is not installed. \n",
    "* MRO has significant better performance than R when MKL is installed. \n",
    "* The performance is similar between MRS and MRO when MKL is installed. \n",
    "\n",
    "So the installation of MKL helped speed up the calculations related to matrix. MKL can be used for MRO but not for base R.\n",
    "\n",
    "[![Figure 5][pic 5]][pic 5] Figure 5\n",
    "\n",
    "[pic 5]: https://cloud.githubusercontent.com/assets/9322661/12991031/59fc7e92-d0db-11e5-8618-935152f82d6a.PNG"
   ]
  },
  {
   "cell_type": "markdown",
   "metadata": {},
   "source": [
    "When the calculation does not involve matrix, however, MKL will not help much for standard R functions. For example, the following code can be run on the same four platforms as shown above."
   ]
  },
  {
   "cell_type": "code",
   "execution_count": 10,
   "metadata": {
    "collapsed": false,
    "scrolled": true
   },
   "outputs": [],
   "source": [
    "# simulate data \n",
    "nsamples <- 10 ^ 7 # this was used on different platforms\n",
    "# nsamples <- 1000 # for testing purpose\n",
    "group_a <- simulCluster(nsamples, -1, 2, \"a\")\n",
    "group_b <- simulCluster(nsamples, 1, 2, \"b\")\n",
    "group_all <- rbind(group_a, group_b)\n",
    "\n",
    "nclusters <- 2\n",
    "\n",
    "mydata = group_all[, 1:2]\n",
    "# K-Means Cluster Analysis\n",
    "system_time_r <- system.time(fit <- kmeans(mydata, nclusters,\n",
    "                                           iter.max = 1000,\n",
    "                                           algorithm = \"Lloyd\"))"
   ]
  },
  {
   "cell_type": "markdown",
   "metadata": {},
   "source": [
    "Figure 6 compares the speed across the platforms for the kmeans() function. It can be seen that the speed of running kmeans() is similar between R, MRO, and MRS. \n",
    "\n",
    "[![Figure 6][pic 6]][pic 6] Figure 6\n",
    "\n",
    "[pic 6]: https://cloud.githubusercontent.com/assets/9322661/12991942/a460485c-d0df-11e5-855a-5e2bc4db2103.PNG"
   ]
  },
  {
   "cell_type": "markdown",
   "metadata": {},
   "source": [
    "#### 3.2.2 Base R vs HPA Functions\n",
    "By changing the sample size of the simulated data we can compare the speed of using kmeans() and rxKmeans() for different data sizes. The code in the following block compares the performance. The results show that the HPA function rxKmeans() runs faster than kmeans() when the size of datasets gets large and that their performance is similar for smaller datasets. "
   ]
  },
  {
   "cell_type": "code",
   "execution_count": 11,
   "metadata": {
    "collapsed": false,
    "scrolled": true
   },
   "outputs": [
    {
     "data": {
      "text/html": [
       "<table>\n",
       "<thead><tr><th></th><th scope=col>nsamples</th><th scope=col>time_r</th><th scope=col>time_rre</th><th scope=col>nsamples_log</th></tr></thead>\n",
       "<tbody>\n",
       "\t<tr><th scope=row>1</th><td>1000</td><td>0.01</td><td>0.02</td><td>3</td></tr>\n",
       "\t<tr><th scope=row>2</th><td>2000</td><td>0</td><td>0.02</td><td>3.30103</td></tr>\n",
       "\t<tr><th scope=row>3</th><td>10000</td><td>0</td><td>0.03</td><td>4</td></tr>\n",
       "\t<tr><th scope=row>4</th><td>20000</td><td>0.01</td><td>0.07</td><td>4.30103</td></tr>\n",
       "\t<tr><th scope=row>5</th><td>1e+05</td><td>0.07</td><td>0.06</td><td>5</td></tr>\n",
       "\t<tr><th scope=row>6</th><td>2e+05</td><td>0.26</td><td>0.1</td><td>5.30103</td></tr>\n",
       "\t<tr><th scope=row>7</th><td>1e+06</td><td>1.58</td><td>0.56</td><td>6</td></tr>\n",
       "\t<tr><th scope=row>8</th><td>2e+06</td><td>2.11</td><td>1.13</td><td>6.30103</td></tr>\n",
       "\t<tr><th scope=row>9</th><td>1e+07</td><td>15.14</td><td>6.07</td><td>7</td></tr>\n",
       "\t<tr><th scope=row>10</th><td>2e+07</td><td>26.08</td><td>15.39</td><td>7.30103</td></tr>\n",
       "</tbody>\n",
       "</table>\n"
      ],
      "text/latex": [
       "\\begin{tabular}{r|llll}\n",
       "  & nsamples & time_r & time_rre & nsamples_log\\\\\n",
       "\\hline\n",
       "\t1 & 1000 & 0.01 & 0.02 & 3\\\\\n",
       "\t2 & 2000 & 0 & 0.02 & 3.30103\\\\\n",
       "\t3 & 10000 & 0 & 0.03 & 4\\\\\n",
       "\t4 & 20000 & 0.01 & 0.07 & 4.30103\\\\\n",
       "\t5 & 1e+05 & 0.07 & 0.06 & 5\\\\\n",
       "\t6 & 2e+05 & 0.26 & 0.1 & 5.30103\\\\\n",
       "\t7 & 1e+06 & 1.58 & 0.56 & 6\\\\\n",
       "\t8 & 2e+06 & 2.11 & 1.13 & 6.30103\\\\\n",
       "\t9 & 1e+07 & 15.14 & 6.07 & 7\\\\\n",
       "\t10 & 2e+07 & 26.08 & 15.39 & 7.30103\\\\\n",
       "\\end{tabular}\n"
      ],
      "text/plain": [
       "   nsamples time_r time_rre nsamples_log\n",
       "1     1e+03   0.01     0.02      3.00000\n",
       "2     2e+03   0.00     0.02      3.30103\n",
       "3     1e+04   0.00     0.03      4.00000\n",
       "4     2e+04   0.01     0.07      4.30103\n",
       "5     1e+05   0.07     0.06      5.00000\n",
       "6     2e+05   0.26     0.10      5.30103\n",
       "7     1e+06   1.58     0.56      6.00000\n",
       "8     2e+06   2.11     1.13      6.30103\n",
       "9     1e+07  15.14     6.07      7.00000\n",
       "10    2e+07  26.08    15.39      7.30103"
      ]
     },
     "execution_count": 11,
     "metadata": {},
     "output_type": "execute_result"
    }
   ],
   "source": [
    "# to save timing results\n",
    "myresult <- data.frame(nsamples = integer(), time_r = double(),\n",
    "                       time_rre = double())\n",
    "\n",
    "# list of sample sizes\n",
    "nsamples_list <- c(5 * 10 ^ 2, 10 ^ 3, 5 * 10 ^ 3, 10 ^ 4, 5 * 10 ^ 4, 10 ^ 5,\n",
    "                   5 * 10 ^ 5, 10 ^ 6, 5 * 10 ^ 6, 10 ^ 7)\n",
    "\n",
    "for (nsamples in nsamples_list)\n",
    "{\n",
    "  # simulate data and append\n",
    "  group_a <- simulCluster(nsamples, -1, 2, \"a\")\n",
    "  group_b <- simulCluster(nsamples, 1, 2, \"b\")\n",
    "  group_all <- rbind(group_a, group_b)\n",
    "  mydata = group_all[, 1:2]\n",
    "\n",
    "  nclusters <- 2\n",
    "\n",
    "  # kmeans with R\n",
    "  system_time_r <- system.time(fit <- kmeans(mydata, nclusters,\n",
    "                                               iter.max = 1000,\n",
    "                                               algorithm = \"Lloyd\"))\n",
    "\n",
    "  # kmeans with MRS\n",
    "  system_time_rre <- system.time(clust <- rxKmeans( ~ V1 + V2, data = mydata,\n",
    "                                                     numClusters = nclusters,\n",
    "                                                     algorithm = \"lloyd\"))\n",
    "\n",
    "  # combine\n",
    "  newrow <- data.frame(nsamples = nsamples,\n",
    "                         time_r = as.numeric(system_time_r[3]),\n",
    "                         time_rre = as.numeric(system_time_rre[3]))\n",
    "  myresult <- rbind(myresult, newrow)\n",
    "\n",
    "}\n",
    "\n",
    "myresult$nsamples <- 2 * myresult$nsamples\n",
    "mydata <- myresult\n",
    "mydata$nsamples_log <- log10(mydata$nsamples)\n",
    "mydata\n"
   ]
  },
  {
   "cell_type": "code",
   "execution_count": 12,
   "metadata": {
    "collapsed": false
   },
   "outputs": [
    {
     "data": {
      "image/png": "[encoded data removed]"
     },
     "metadata": {},
     "output_type": "display_data"
    }
   ],
   "source": [
    "# generate plot\n",
    "ggplot(data = mydata, aes(x = nsamples_log)) +\n",
    "    geom_point(aes(y = time_r, colour = \"kmeans\")) +\n",
    "    geom_line(aes(y = time_r, colour = \"kmeans\")) +\n",
    "    geom_point(aes(y = time_rre, colour = \"rxKmeans\")) +\n",
    "    geom_line(aes(y = time_rre, colour = \"rxKmeans\")) +\n",
    "    scale_x_continuous(breaks = seq(2, 8, by = 1)) +\n",
    "    scale_colour_manual(\"Function\", values = c(kmeans = \"red\", rxKmeans = \"blue\")) +\n",
    "    xlab(\"log10(number of samples)\") +\n",
    "    ylab(\"time in seconds\") +\n",
    "    ggtitle(\"If data fits in memory, \\nkmeans() and rxKmeans() are equally performant\")"
   ]
  },
  {
   "cell_type": "markdown",
   "metadata": {},
   "source": [
    "## 4 Conclusion\n",
    "[Figure 7][pic 7] summarize scenarios where R, MRO, and MRS can be used depending on the amount of data and the availability of MRS's HPA functions. Whenever R can be used, MRO can be used with the additional benefit of multi-thread computation for certain matrix related computations. MRS can be used whenever R or MRO can be used and it allows the possibility of using HPA functions that provide better performance in terms of both speed and capacity. \n",
    "\n",
    "[![Figure 7][pic 7]][pic 7] Figure 7\n",
    "\n",
    "[pic 7]: https://cloud.githubusercontent.com/assets/9322661/13078756/d5fb2708-d48e-11e5-83ec-ed18c75bf5f8.PNG\n",
    "\n"
   ]
  },
  {
   "cell_type": "markdown",
   "metadata": {},
   "source": [
    "## 5 Additional Resources\n",
    "This write-up should have helped you understand how MRS and MRO relate to R. Below are some additional resources you can refer to. \n",
    "\n",
    "* [Microsoft Announcing MRO and MRS][blog link]\n",
    "* [ZDNet Reporting on MRO and MRS] [ZDNet]\n",
    "* [DataCamp - Big Data Analysis with Revolution R Enterprise][datacamp link]\n",
    "* [MRS Documentation][mrs doc]\n",
    "* [Revolution R Enterprise: Faster Than SAS][mrs vs sas]\n",
    "\n",
    "[blog link]: http://blogs.technet.com/b/machinelearning/archive/2016/01/12/making-r-the-enterprise-standard-for-cross-platform-analytics-both-on-premises-and-in-the-cloud.aspx\n",
    "[ZDNet]: http://www.zdnet.com/article/microsoft-delivers-free-version-of-its-r-analytics-server-for-developers/\n",
    "[datacamp link]: https://www.datacamp.com/courses/big-data-revolution-r-enterprise-tutorial\n",
    "[mrs doc]: http://packages.revolutionanalytics.com/doc/8.0.0/win/\n",
    "[mrs vs sas]: http://www.revolutionanalytics.com/sites/default/files/revolution-analytics-sas-benchmark-whitepaper-mar2014.pdf"
   ]
  },
  {
   "cell_type": "markdown",
   "metadata": {},
   "source": [
    "---  \n",
    "Created by a Microsoft Employee.  \n",
    "Copyright (C) Microsoft. All Rights Reserved."
   ]
  }
 ],
 "metadata": {
  "kernelspec": {
   "display_name": "R",
   "language": "R",
   "name": "ir"
  },
  "language_info": {
   "codemirror_mode": "r",
   "file_extension": ".r",
   "mimetype": "text/x-r-source",
   "name": "R",
   "pygments_lexer": "r",
   "version": "3.2.2"
  }
 },
 "nbformat": 4,
 "nbformat_minor": 0
}
